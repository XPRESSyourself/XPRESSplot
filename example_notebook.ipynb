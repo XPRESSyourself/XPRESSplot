{
 "cells": [
  {
   "cell_type": "markdown",
   "metadata": {},
   "source": [
    "# XPRESStools Notebook \n",
    "- This test notebook can be used to perform analysis on a dataset.   \n",
    "- Follow the instructions above each code block to know when and how to modify aspects of the analysis    \n",
    "- A block of code can be executed in Jupyter notebook by selecting the block and pressing Shift + Enter\n",
    "- IMPORTANT: If you re-run a previous block of code, already created variables are stored, so it important to run this linearly    \n",
    "- Please refer to the [documentation](https://xpresstools.readthedocs.io/en/latest/) for further instructions"
   ]
  },
  {
   "cell_type": "markdown",
   "metadata": {},
   "source": [
    "# Preparing Data"
   ]
  },
  {
   "cell_type": "markdown",
   "metadata": {},
   "source": [
    "### Import libraries \n",
    "- XPRESStools can be installed by executing ```pip install xpresstools``` in the command line   \n",
    "- The ```%matplotlib inline``` command allows figures to be displayed inline in Jupyter notebook"
   ]
  },
  {
   "cell_type": "code",
   "execution_count": null,
   "metadata": {},
   "outputs": [],
   "source": [
    "import os\n",
    "import pandas as pd \n",
    "import numpy as np\n",
    "import xpressplot as xp\n",
    "%matplotlib inline"
   ]
  },
  {
   "cell_type": "markdown",
   "metadata": {},
   "source": [
    "### Variables\n",
    "- Modify variables such as data path, file names, etc here.  \n",
    "- More information on how custom datasets should be formatted can be found [here](https://xpresstools.readthedocs.io/en/latest/content/general-usage.html)"
   ]
  },
  {
   "cell_type": "code",
   "execution_count": null,
   "metadata": {},
   "outputs": [],
   "source": [
    "#Modify this path to specify file location and name \n",
    "#IMPORTANT: this path must end with a forward slash character as shown below\n",
    "file_name = './tests/test_data.txt'"
   ]
  },
  {
   "cell_type": "markdown",
   "metadata": {},
   "source": [
    "### Import dataset"
   ]
  },
  {
   "cell_type": "code",
   "execution_count": null,
   "metadata": {},
   "outputs": [],
   "source": [
    "data = xp.get_df(file_name, delimiter='\\t')\n",
    "metadata = xp.get_info('./tests/test_info.txt')"
   ]
  },
  {
   "cell_type": "markdown",
   "metadata": {},
   "source": [
    "- We can look at the data by applying the `.head()` function to a dataframe"
   ]
  },
  {
   "cell_type": "code",
   "execution_count": null,
   "metadata": {},
   "outputs": [],
   "source": [
    "data.head()"
   ]
  },
  {
   "cell_type": "code",
   "execution_count": null,
   "metadata": {},
   "outputs": [],
   "source": [
    "metadata.head()"
   ]
  },
  {
   "cell_type": "markdown",
   "metadata": {},
   "source": [
    "### Clean up the data\n",
    "- For this dataset, we only want to compare normal colon and adenomous colon expression, so we create a dataframe with just those samples and run a basic clean-up function to remove Null values, etc.   \n",
    "- Print functions have also been included to show the size of the dataframe before and after this code block is run"
   ]
  },
  {
   "cell_type": "code",
   "execution_count": null,
   "metadata": {},
   "outputs": [],
   "source": [
    "#Get normal and adenoma samples\n",
    "data = xp.keep_labels(data, metadata, label_list=['ribo_untr','ribo_tm',])\n",
    "\n",
    "#Print some info\n",
    "print('Dataframe size before cleaning: ' + str(data.shape))\n",
    "\n",
    "#Clean up dataset of missing values\n",
    "data = xp.clean_df(data)\n",
    "\n",
    "print('Dataframe size after cleaning: ' + str(data.shape))"
   ]
  },
  {
   "cell_type": "code",
   "execution_count": null,
   "metadata": {},
   "outputs": [],
   "source": [
    "data.columns"
   ]
  },
  {
   "cell_type": "markdown",
   "metadata": {},
   "source": [
    "### Rename genes\n",
    "- Let's rename the gene ids to the common gene names \n",
    "- You will need an Ensembl GTF file which can be downloaded <a href='ftp://ftp.ensembl.org/pub/release-97/gtf/homo_sapiens/Homo_sapiens.GRCh38.97.gtf.gz'>here</a> for human \n",
    "- If you are using a different model organism, you will need to download the appropriate GTF file"
   ]
  },
  {
   "cell_type": "code",
   "execution_count": null,
   "metadata": {},
   "outputs": [],
   "source": [
    "#Location of GTF reference file\n",
    "gtf_ref = '/Users/jordan/Desktop/reference/Homo_sapiens.GRCh38.96.gtf'"
   ]
  },
  {
   "cell_type": "code",
   "execution_count": null,
   "metadata": {},
   "outputs": [],
   "source": [
    "data = xp.convert_names(\n",
    "    data,\n",
    "    gtf_ref)"
   ]
  },
  {
   "cell_type": "markdown",
   "metadata": {},
   "source": [
    "### Sample Normalization (RNA-seq)\n",
    "- If running MicroArray data, signal must be normalized using a software tool such as Alt Analyze\n",
    "- If running an RNAseq dataset, samples need to be normalized based on the number of reads in each\n",
    "    - See the [documentation](https://xpresstools.readthedocs.io/en/latest/content/normalize.html) for more information\n",
    "    - The code blocks below will perform RPKM normalization on single-end read RNAseq data\n",
    "    - The first of these code blocks will set the variable for the location and file name of the appropriate [Ensembl GTF reference file](https://uswest.ensembl.org/index.html)\n",
    "- GTF file format will vary slightly from organism to organism, and at times the character sequence needed to be searched will vary. More information can be found in the [documentation](https://xpresstools.readthedocs.io/en/latest/content/normalize.html)\n",
    "- If samples were sequenced in multiple batches, it is recommended using XPRESStools's [batch_normalize](https://xpresstools.readthedocs.io/en/latest/content/normalize.html#batch-normalize) function"
   ]
  },
  {
   "cell_type": "code",
   "execution_count": null,
   "metadata": {},
   "outputs": [],
   "source": [
    "# Choose from rpm(), tpm(), rpkm(), or fpkm(). All require a GTF file aside from rpm()\n",
    "data_tpm = xp.tpm(\n",
    "    data, \n",
    "    gtf_ref)"
   ]
  },
  {
   "cell_type": "code",
   "execution_count": null,
   "metadata": {},
   "outputs": [],
   "source": [
    "data_tpm.head()"
   ]
  },
  {
   "cell_type": "code",
   "execution_count": null,
   "metadata": {},
   "outputs": [],
   "source": [
    "data_rpm = xp.rpm(\n",
    "    data)"
   ]
  },
  {
   "cell_type": "markdown",
   "metadata": {},
   "source": [
    "### Check the data distribution \n",
    "- As RNA-Seq data follows a negative binomial distribution, it is often helpful to perform a log<sub>10</sub> transformation of the data\n",
    "- As we can see by running this block, after `rpm` normalization, the data are distributed proportionally and comparable"
   ]
  },
  {
   "cell_type": "code",
   "execution_count": null,
   "metadata": {},
   "outputs": [],
   "source": [
    "log_data = np.log10(data_rpm + 1)\n",
    "\n",
    "xp.check_samples(log_data)"
   ]
  },
  {
   "cell_type": "markdown",
   "metadata": {},
   "source": [
    "### Gene Scaling\n",
    "- For many analyses, it is important that genes be scaled similarly in order to make their comparison compatible\n",
    "- XPRESStools will perform standard scaling on gene data. This will result in each gene having a mean=0 and a standard deviation=1"
   ]
  },
  {
   "cell_type": "code",
   "execution_count": null,
   "metadata": {},
   "outputs": [],
   "source": [
    "data_scaled, data_labeled = xp.prep_data(data_rpm, metadata) "
   ]
  },
  {
   "cell_type": "markdown",
   "metadata": {},
   "source": [
    "### Prepare plotting features\n",
    "- XPRESStools often gives one the option to color by sample type. Doing so requires a color palette dictionary, like the one below\n",
    "- Colors can be specified using common names or using another Matplotlib-compatible format"
   ]
  },
  {
   "cell_type": "code",
   "execution_count": null,
   "metadata": {},
   "outputs": [],
   "source": [
    "colors = {'ribo_tm': (0.8705882352941177, 0.5607843137254902, 0.0196078431372549),\n",
    "        'ribo_untr': (0.00784313725490196, 0.6196078431372549, 0.45098039215686275)}"
   ]
  },
  {
   "cell_type": "markdown",
   "metadata": {},
   "source": [
    "# Analyzing Data"
   ]
  },
  {
   "cell_type": "markdown",
   "metadata": {},
   "source": [
    "### Single-gene analysis\n",
    "- Use: Explore how expression of a particular gene varies across sample types"
   ]
  },
  {
   "cell_type": "markdown",
   "metadata": {},
   "source": [
    "<u><b>Plot data</b></u>\n",
    "- In the example below, we use the previous data and metadata, along with the corresponding color palette\n",
    "- In this example we will look at how expression of <b>ATF4</b>, a stress-responsive transcription factor\n",
    "- In this example, we have also added the ```order``` argument to ensure samples are ordered as we wish"
   ]
  },
  {
   "cell_type": "code",
   "execution_count": null,
   "metadata": {},
   "outputs": [],
   "source": [
    "xp.gene_overview(data_rpm, metadata, 'ATF4', colors, order=['ribo_untr','ribo_tm'])"
   ]
  },
  {
   "cell_type": "markdown",
   "metadata": {},
   "source": [
    "### Multi-gene analysis\n",
    "- Use: Explore expression of a sub-set of genes of interest"
   ]
  },
  {
   "cell_type": "markdown",
   "metadata": {},
   "source": [
    "<u><b>Generate gene lists</b></u>\n",
    "- Gene lists can be imported or specified as a variable for later use\n",
    "- This list can be modified to fit the user's specific needs"
   ]
  },
  {
   "cell_type": "code",
   "execution_count": null,
   "metadata": {},
   "outputs": [],
   "source": [
    "genes = ['ATF4',\"ATF5\",'DDIT3','PPP1R15A']"
   ]
  },
  {
   "cell_type": "markdown",
   "metadata": {},
   "source": [
    "<u><b>Plot data</b></u>\n",
    "- Next, we'll perform multi-gene analysis on a subset of genes we think might be interesting in the context of colon cancer\n",
    "- In this example we will explore the expression of the genes required to form the HoxD\n",
    "- It is recommended that <b>genes are uniformly scaled</b> in order to make their expression levels cross-compatible\n",
    "- Lactate dehydrogenase gene products convert pyruvate to lactate and appear to show sligh up-regulation. As the mitochondrial pyruvate carrier appears to be downregulated, this makes sense, as the complex will decrease import of pyruvate into the mitochondria and lead to accumulations in the cytosol"
   ]
  },
  {
   "cell_type": "code",
   "execution_count": null,
   "metadata": {},
   "outputs": [],
   "source": [
    "xp.multigene_overview(data_scaled, metadata, \n",
    "                      palette=colors,\n",
    "                      gene_list=genes)"
   ]
  },
  {
   "cell_type": "markdown",
   "metadata": {},
   "source": [
    "### Heatmaps\n",
    "- Use: Compare a gene cohort or all genes across samples to identify expression patterns"
   ]
  },
  {
   "cell_type": "markdown",
   "metadata": {},
   "source": [
    "<u><b>Prepare gene labels metadata</b></u>\n",
    "- In this example, we will supply the sample metadata, as well as gene metadata to label the gene axis"
   ]
  },
  {
   "cell_type": "code",
   "execution_count": null,
   "metadata": {},
   "outputs": [],
   "source": [
    "#Set gene group color palette\n",
    "gene_colors = {'ATF4': (0.5725490196078431, 0.5843137254901961, 0.5686274509803921),\n",
    "                'ATF5': (0.8705882352941177, 0.5607843137254902, 0.0196078431372549)}\n",
    "\n",
    "#Create gene group metadata\n",
    "gene_groups = np.array([['ATF4','ISR'],\n",
    "                  ['ATF5','ISR'],\n",
    "                  ['DDIT3','ISR'],\n",
    "                  ['SLC1A1','Other']])\n",
    "gene_groups = pd.DataFrame({0:gene_groups[:,0],1:gene_groups[:,1]})"
   ]
  },
  {
   "cell_type": "markdown",
   "metadata": {},
   "source": [
    "<u><b>Plot data</b></u>\n",
    "- From this analysis, it appears that the LDH genes and the MPC genes cluster together and that these two sets of genes alone are able to cluster normal versus adenomous tissue fairly well"
   ]
  },
  {
   "cell_type": "code",
   "execution_count": null,
   "metadata": {},
   "outputs": [],
   "source": [
    "xp.heatmap(data_scaled, metadata, \n",
    "           sample_palette=colors, \n",
    "           gene_palette=gene_colors, gene_info=gene_groups, \n",
    "           gene_list=['ATF4','ATF5','DDIT3','SLC1A1'], \n",
    "           row_cluster=True, col_cluster=True,\n",
    "           figsize=(10,3))"
   ]
  },
  {
   "cell_type": "markdown",
   "metadata": {},
   "source": [
    "# Scatter Plots and Linear Regression\n",
    "- Use: Plot two arrays data, such as the expression of two genes from the dataset and determine if there is a linear relationship between the two arrays "
   ]
  },
  {
   "cell_type": "markdown",
   "metadata": {},
   "source": [
    "<u><b>Plot data</b></u>\n",
    "- From the previous example, it appears there is a fairly anti-correlary relationship between MPC and LDH. We would now like to quantify this relationship between two of the genes\n",
    "- The linear regression states that the relationship has an r-value=```-0.48```, confirming our hypothesis of a anti-correlary relationship. The value of ```0.48``` indicates a moderate level of correlation"
   ]
  },
  {
   "cell_type": "code",
   "execution_count": null,
   "metadata": {},
   "outputs": [],
   "source": [
    "xp.scatter(data, metadata, 'SLC1A1', 'ATF4', \n",
    "           palette=colors, \n",
    "           add_linreg=True,\n",
    "           alpha=0.9,\n",
    "           figsize=(4,4))"
   ]
  },
  {
   "cell_type": "markdown",
   "metadata": {},
   "source": [
    "### Volcano Plots\n",
    "- As RNA-Seq data is not normally distributed, we need to input properly processed data \n",
    "- We will use DESeq2 prepared data, which is accessible through `XPRESSpipe diffex`"
   ]
  },
  {
   "cell_type": "markdown",
   "metadata": {},
   "source": [
    "<u><b>Plot data</b></u>\n",
    "- From this analysis, while the changes in these genes are significant, they are perhaps not very large changes in expression\n",
    "- Labeling the highlighted points is a two step process, as outlined in the code blocks below"
   ]
  },
  {
   "cell_type": "code",
   "execution_count": null,
   "metadata": {},
   "outputs": [],
   "source": [
    "#We'll use this step to get the gene coordinates\n",
    "xp.rna_volcano(\n",
    "    './tests/test_deseq2_output.txt',\n",
    "    highlight_points=[['ATF4','ATF5','DDIT3'],['SLC1A1','POMGNT1']],\n",
    "    highlight_color=['green','purple'],\n",
    "    y_threshold=1,\n",
    "    x_threshold=[-1,1])                                      \n",
    "           "
   ]
  },
  {
   "cell_type": "markdown",
   "metadata": {},
   "source": [
    "# Principle Component Analysis\n",
    "- Use: Deconvolute high-dimensional data"
   ]
  },
  {
   "cell_type": "markdown",
   "metadata": {},
   "source": [
    "<u><b>Prepare gene set</b></u>\n",
    "- Let's see how sufficient solute transporter expression levels are to delineate different sample types"
   ]
  },
  {
   "cell_type": "code",
   "execution_count": null,
   "metadata": {},
   "outputs": [],
   "source": [
    "slc = []\n",
    "slc = [x for x in data_scaled.index.tolist() if 'SLC' in x]"
   ]
  },
  {
   "cell_type": "markdown",
   "metadata": {},
   "source": [
    "<u><b>Plot data</b></u>\n",
    "- Let's plot the gene subset"
   ]
  },
  {
   "cell_type": "code",
   "execution_count": null,
   "metadata": {},
   "outputs": [],
   "source": [
    "xp.pca(data_scaled, metadata, colors, \n",
    "       gene_list=slc,\n",
    "       grouping='samples', #this indicates we want to compare samples\n",
    "       n_components=2, # Since we have a small number of samples, we need to modify this to n_samples > n_components\n",
    "       figsize=(4,4))"
   ]
  },
  {
   "cell_type": "markdown",
   "metadata": {},
   "source": [
    "- We can also consider all gene expression to see how it delineates sample type\n",
    "- In this case, it looks like gene expression alone is enough to cluster these samples (good thing, since they one type is cancer and the other is normal!)"
   ]
  },
  {
   "cell_type": "code",
   "execution_count": null,
   "metadata": {},
   "outputs": [],
   "source": [
    "xp.pca(data_scaled, metadata, colors, \n",
    "       figsize=(4,4),\n",
    "      n_components=2)"
   ]
  },
  {
   "cell_type": "code",
   "execution_count": null,
   "metadata": {},
   "outputs": [],
   "source": []
  }
 ],
 "metadata": {
  "kernelspec": {
   "display_name": "Python 3",
   "language": "python",
   "name": "python3"
  },
  "language_info": {
   "codemirror_mode": {
    "name": "ipython",
    "version": 3
   },
   "file_extension": ".py",
   "mimetype": "text/x-python",
   "name": "python",
   "nbconvert_exporter": "python",
   "pygments_lexer": "ipython3",
   "version": "3.6.7"
  }
 },
 "nbformat": 4,
 "nbformat_minor": 2
}
