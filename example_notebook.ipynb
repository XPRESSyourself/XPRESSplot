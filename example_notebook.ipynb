{
 "cells": [
  {
   "cell_type": "markdown",
   "metadata": {},
   "source": [
    "# XPRESStools Notebook \n",
    "- This test notebook can be used to perform analysis on a dataset.   \n",
    "- Follow the instructions above each code block to know when and how to modify aspects of the analysis    \n",
    "- A block of code can be executed in Jupyter notebook by selecting the block and pressing Shift + Enter\n",
    "- IMPORTANT: If you re-run a previous block of code, already created variables are stored, so it important to run this linearly    \n",
    "- Please refer to the [documentation](https://xpresstools.readthedocs.io/en/latest/) for further instructions"
   ]
  },
  {
   "cell_type": "markdown",
   "metadata": {},
   "source": [
    "# Preparing Data"
   ]
  },
  {
   "cell_type": "markdown",
   "metadata": {},
   "source": [
    "### Import libraries \n",
    "- XPRESStools can be installed by executing ```pip install xpresstools``` in the command line   \n",
    "- The ```%matplotlib inline``` command allows figures to be displayed inline in Jupyter notebook"
   ]
  },
  {
   "cell_type": "code",
   "execution_count": 1,
   "metadata": {},
   "outputs": [],
   "source": [
    "import os\n",
    "import pandas as pd \n",
    "import numpy as np\n",
    "import xpressplot as xp\n",
    "%matplotlib inline"
   ]
  },
  {
   "cell_type": "markdown",
   "metadata": {},
   "source": [
    "### Variables\n",
    "- Modify variables such as data path, file names, etc here.  \n",
    "- More information on how custom datasets should be formatted can be found [here](https://xpresstools.readthedocs.io/en/latest/content/general-usage.html)"
   ]
  },
  {
   "cell_type": "code",
   "execution_count": 2,
   "metadata": {},
   "outputs": [],
   "source": [
    "#Modify this path to specify file location and name \n",
    "#IMPORTANT: this path must end with a forward slash character as shown below\n",
    "file_name = './tests/test_data.txt'"
   ]
  },
  {
   "cell_type": "markdown",
   "metadata": {},
   "source": [
    "### Import dataset"
   ]
  },
  {
   "cell_type": "code",
   "execution_count": 3,
   "metadata": {},
   "outputs": [],
   "source": [
    "data = xp.get_df(file_name, delimiter='\\t')\n",
    "metadata = xp.get_info('./tests/test_info.txt')"
   ]
  },
  {
   "cell_type": "markdown",
   "metadata": {},
   "source": [
    "- We can look at the data by applying the `.head()` function to a dataframe"
   ]
  },
  {
   "cell_type": "code",
   "execution_count": 4,
   "metadata": {},
   "outputs": [
    {
     "data": {
      "text/html": [
       "<div>\n",
       "<style scoped>\n",
       "    .dataframe tbody tr th:only-of-type {\n",
       "        vertical-align: middle;\n",
       "    }\n",
       "\n",
       "    .dataframe tbody tr th {\n",
       "        vertical-align: top;\n",
       "    }\n",
       "\n",
       "    .dataframe thead th {\n",
       "        text-align: right;\n",
       "    }\n",
       "</style>\n",
       "<table border=\"1\" class=\"dataframe\">\n",
       "  <thead>\n",
       "    <tr style=\"text-align: right;\">\n",
       "      <th></th>\n",
       "      <th>SRR1795409</th>\n",
       "      <th>SRR1795410</th>\n",
       "      <th>SRR1795411</th>\n",
       "      <th>SRR1795412</th>\n",
       "      <th>SRR1795413</th>\n",
       "      <th>SRR1795414</th>\n",
       "      <th>SRR1795415</th>\n",
       "      <th>SRR1795416</th>\n",
       "      <th>SRR1795417</th>\n",
       "      <th>SRR1795418</th>\n",
       "      <th>...</th>\n",
       "      <th>SRR1795431</th>\n",
       "      <th>SRR1795432</th>\n",
       "      <th>SRR1795433</th>\n",
       "      <th>SRR1795434</th>\n",
       "      <th>SRR1795435</th>\n",
       "      <th>SRR1795436</th>\n",
       "      <th>SRR1795437</th>\n",
       "      <th>SRR1795438</th>\n",
       "      <th>SRR1795439</th>\n",
       "      <th>SRR1795440</th>\n",
       "    </tr>\n",
       "  </thead>\n",
       "  <tbody>\n",
       "    <tr>\n",
       "      <th>ENSG00000000003</th>\n",
       "      <td>416</td>\n",
       "      <td>514</td>\n",
       "      <td>457</td>\n",
       "      <td>416</td>\n",
       "      <td>498</td>\n",
       "      <td>419</td>\n",
       "      <td>341</td>\n",
       "      <td>216</td>\n",
       "      <td>384</td>\n",
       "      <td>404</td>\n",
       "      <td>...</td>\n",
       "      <td>341</td>\n",
       "      <td>197</td>\n",
       "      <td>260</td>\n",
       "      <td>176</td>\n",
       "      <td>148</td>\n",
       "      <td>154</td>\n",
       "      <td>394</td>\n",
       "      <td>292</td>\n",
       "      <td>441</td>\n",
       "      <td>304</td>\n",
       "    </tr>\n",
       "    <tr>\n",
       "      <th>ENSG00000000005</th>\n",
       "      <td>2</td>\n",
       "      <td>0</td>\n",
       "      <td>1</td>\n",
       "      <td>0</td>\n",
       "      <td>0</td>\n",
       "      <td>2</td>\n",
       "      <td>0</td>\n",
       "      <td>4</td>\n",
       "      <td>2</td>\n",
       "      <td>1</td>\n",
       "      <td>...</td>\n",
       "      <td>0</td>\n",
       "      <td>0</td>\n",
       "      <td>0</td>\n",
       "      <td>0</td>\n",
       "      <td>0</td>\n",
       "      <td>0</td>\n",
       "      <td>0</td>\n",
       "      <td>0</td>\n",
       "      <td>0</td>\n",
       "      <td>0</td>\n",
       "    </tr>\n",
       "    <tr>\n",
       "      <th>ENSG00000000419</th>\n",
       "      <td>435</td>\n",
       "      <td>524</td>\n",
       "      <td>484</td>\n",
       "      <td>462</td>\n",
       "      <td>546</td>\n",
       "      <td>433</td>\n",
       "      <td>330</td>\n",
       "      <td>287</td>\n",
       "      <td>365</td>\n",
       "      <td>360</td>\n",
       "      <td>...</td>\n",
       "      <td>734</td>\n",
       "      <td>416</td>\n",
       "      <td>562</td>\n",
       "      <td>448</td>\n",
       "      <td>345</td>\n",
       "      <td>273</td>\n",
       "      <td>866</td>\n",
       "      <td>692</td>\n",
       "      <td>931</td>\n",
       "      <td>652</td>\n",
       "    </tr>\n",
       "    <tr>\n",
       "      <th>ENSG00000000457</th>\n",
       "      <td>201</td>\n",
       "      <td>237</td>\n",
       "      <td>237</td>\n",
       "      <td>166</td>\n",
       "      <td>205</td>\n",
       "      <td>155</td>\n",
       "      <td>188</td>\n",
       "      <td>134</td>\n",
       "      <td>151</td>\n",
       "      <td>170</td>\n",
       "      <td>...</td>\n",
       "      <td>75</td>\n",
       "      <td>28</td>\n",
       "      <td>46</td>\n",
       "      <td>38</td>\n",
       "      <td>31</td>\n",
       "      <td>30</td>\n",
       "      <td>72</td>\n",
       "      <td>50</td>\n",
       "      <td>73</td>\n",
       "      <td>46</td>\n",
       "    </tr>\n",
       "    <tr>\n",
       "      <th>ENSG00000000460</th>\n",
       "      <td>642</td>\n",
       "      <td>701</td>\n",
       "      <td>607</td>\n",
       "      <td>514</td>\n",
       "      <td>788</td>\n",
       "      <td>559</td>\n",
       "      <td>538</td>\n",
       "      <td>463</td>\n",
       "      <td>580</td>\n",
       "      <td>560</td>\n",
       "      <td>...</td>\n",
       "      <td>334</td>\n",
       "      <td>224</td>\n",
       "      <td>258</td>\n",
       "      <td>228</td>\n",
       "      <td>197</td>\n",
       "      <td>150</td>\n",
       "      <td>408</td>\n",
       "      <td>309</td>\n",
       "      <td>488</td>\n",
       "      <td>324</td>\n",
       "    </tr>\n",
       "  </tbody>\n",
       "</table>\n",
       "<p>5 rows × 32 columns</p>\n",
       "</div>"
      ],
      "text/plain": [
       "                 SRR1795409  SRR1795410  SRR1795411  SRR1795412  SRR1795413  \\\n",
       "ENSG00000000003         416         514         457         416         498   \n",
       "ENSG00000000005           2           0           1           0           0   \n",
       "ENSG00000000419         435         524         484         462         546   \n",
       "ENSG00000000457         201         237         237         166         205   \n",
       "ENSG00000000460         642         701         607         514         788   \n",
       "\n",
       "                 SRR1795414  SRR1795415  SRR1795416  SRR1795417  SRR1795418  \\\n",
       "ENSG00000000003         419         341         216         384         404   \n",
       "ENSG00000000005           2           0           4           2           1   \n",
       "ENSG00000000419         433         330         287         365         360   \n",
       "ENSG00000000457         155         188         134         151         170   \n",
       "ENSG00000000460         559         538         463         580         560   \n",
       "\n",
       "                 ...  SRR1795431  SRR1795432  SRR1795433  SRR1795434  \\\n",
       "ENSG00000000003  ...         341         197         260         176   \n",
       "ENSG00000000005  ...           0           0           0           0   \n",
       "ENSG00000000419  ...         734         416         562         448   \n",
       "ENSG00000000457  ...          75          28          46          38   \n",
       "ENSG00000000460  ...         334         224         258         228   \n",
       "\n",
       "                 SRR1795435  SRR1795436  SRR1795437  SRR1795438  SRR1795439  \\\n",
       "ENSG00000000003         148         154         394         292         441   \n",
       "ENSG00000000005           0           0           0           0           0   \n",
       "ENSG00000000419         345         273         866         692         931   \n",
       "ENSG00000000457          31          30          72          50          73   \n",
       "ENSG00000000460         197         150         408         309         488   \n",
       "\n",
       "                 SRR1795440  \n",
       "ENSG00000000003         304  \n",
       "ENSG00000000005           0  \n",
       "ENSG00000000419         652  \n",
       "ENSG00000000457          46  \n",
       "ENSG00000000460         324  \n",
       "\n",
       "[5 rows x 32 columns]"
      ]
     },
     "execution_count": 4,
     "metadata": {},
     "output_type": "execute_result"
    }
   ],
   "source": [
    "data.head()"
   ]
  },
  {
   "cell_type": "code",
   "execution_count": 5,
   "metadata": {},
   "outputs": [
    {
     "data": {
      "text/html": [
       "<div>\n",
       "<style scoped>\n",
       "    .dataframe tbody tr th:only-of-type {\n",
       "        vertical-align: middle;\n",
       "    }\n",
       "\n",
       "    .dataframe tbody tr th {\n",
       "        vertical-align: top;\n",
       "    }\n",
       "\n",
       "    .dataframe thead th {\n",
       "        text-align: right;\n",
       "    }\n",
       "</style>\n",
       "<table border=\"1\" class=\"dataframe\">\n",
       "  <thead>\n",
       "    <tr style=\"text-align: right;\">\n",
       "      <th></th>\n",
       "      <th>0</th>\n",
       "      <th>1</th>\n",
       "    </tr>\n",
       "  </thead>\n",
       "  <tbody>\n",
       "    <tr>\n",
       "      <th>0</th>\n",
       "      <td>SRR1795409</td>\n",
       "      <td>rna_untr</td>\n",
       "    </tr>\n",
       "    <tr>\n",
       "      <th>1</th>\n",
       "      <td>SRR1795410</td>\n",
       "      <td>rna_untr</td>\n",
       "    </tr>\n",
       "    <tr>\n",
       "      <th>2</th>\n",
       "      <td>SRR1795411</td>\n",
       "      <td>rna_untr</td>\n",
       "    </tr>\n",
       "    <tr>\n",
       "      <th>3</th>\n",
       "      <td>SRR1795412</td>\n",
       "      <td>rna_untr</td>\n",
       "    </tr>\n",
       "    <tr>\n",
       "      <th>4</th>\n",
       "      <td>SRR1795413</td>\n",
       "      <td>rna_isrib</td>\n",
       "    </tr>\n",
       "  </tbody>\n",
       "</table>\n",
       "</div>"
      ],
      "text/plain": [
       "            0          1\n",
       "0  SRR1795409   rna_untr\n",
       "1  SRR1795410   rna_untr\n",
       "2  SRR1795411   rna_untr\n",
       "3  SRR1795412   rna_untr\n",
       "4  SRR1795413  rna_isrib"
      ]
     },
     "execution_count": 5,
     "metadata": {},
     "output_type": "execute_result"
    }
   ],
   "source": [
    "metadata.head()"
   ]
  },
  {
   "cell_type": "markdown",
   "metadata": {},
   "source": [
    "### Clean up the data\n",
    "- For this dataset, we only want to compare normal colon and adenomous colon expression, so we create a dataframe with just those samples and run a basic clean-up function to remove Null values, etc.   \n",
    "- Print functions have also been included to show the size of the dataframe before and after this code block is run"
   ]
  },
  {
   "cell_type": "code",
   "execution_count": 6,
   "metadata": {},
   "outputs": [
    {
     "name": "stdout",
     "output_type": "stream",
     "text": [
      "Dataframe size before cleaning: (20018, 8)\n",
      "Dataframe size after cleaning: (20018, 8)\n"
     ]
    }
   ],
   "source": [
    "#Get normal and adenoma samples\n",
    "data = xp.keep_labels(data, metadata, label_list=['ribo_untr','ribo_tm',])\n",
    "\n",
    "#Print some info\n",
    "print('Dataframe size before cleaning: ' + str(data.shape))\n",
    "\n",
    "#Clean up dataset of missing values\n",
    "data = xp.clean_df(data)\n",
    "\n",
    "print('Dataframe size after cleaning: ' + str(data.shape))"
   ]
  },
  {
   "cell_type": "code",
   "execution_count": 7,
   "metadata": {},
   "outputs": [
    {
     "data": {
      "text/plain": [
       "Index(['SRR1795425', 'SRR1795426', 'SRR1795427', 'SRR1795428', 'SRR1795433',\n",
       "       'SRR1795434', 'SRR1795435', 'SRR1795436'],\n",
       "      dtype='object')"
      ]
     },
     "execution_count": 7,
     "metadata": {},
     "output_type": "execute_result"
    }
   ],
   "source": [
    "data.columns"
   ]
  },
  {
   "cell_type": "markdown",
   "metadata": {},
   "source": [
    "### Rename genes\n",
    "- Let's rename the gene ids to the common gene names \n",
    "- You will need an Ensembl GTF file which can be downloaded <a href='ftp://ftp.ensembl.org/pub/release-97/gtf/homo_sapiens/Homo_sapiens.GRCh38.97.gtf.gz'>here</a> for human \n",
    "- If you are using a different model organism, you will need to download the appropriate GTF file"
   ]
  },
  {
   "cell_type": "code",
   "execution_count": 11,
   "metadata": {},
   "outputs": [],
   "source": [
    "#Location of GTF reference file\n",
    "gtf_ref = '~/Desktop/reference/Homo_sapiens.GRCh38.96.gtf'"
   ]
  },
  {
   "cell_type": "code",
   "execution_count": 12,
   "metadata": {},
   "outputs": [],
   "source": [
    "data = xp.convert_names(\n",
    "    data,\n",
    "    gtf_ref)"
   ]
  },
  {
   "cell_type": "markdown",
   "metadata": {},
   "source": [
    "### Sample Normalization (RNA-seq)\n",
    "- If running MicroArray data, signal must be normalized using a software tool such as Alt Analyze\n",
    "- If running an RNAseq dataset, samples need to be normalized based on the number of reads in each\n",
    "    - See the [documentation](https://xpresstools.readthedocs.io/en/latest/content/normalize.html) for more information\n",
    "    - The code blocks below will perform RPKM normalization on single-end read RNAseq data\n",
    "    - The first of these code blocks will set the variable for the location and file name of the appropriate [Ensembl GTF reference file](https://uswest.ensembl.org/index.html)\n",
    "- GTF file format will vary slightly from organism to organism, and at times the character sequence needed to be searched will vary. More information can be found in the [documentation](https://xpresstools.readthedocs.io/en/latest/content/normalize.html)\n",
    "- If samples were sequenced in multiple batches, it is recommended using XPRESStools's [batch_normalize](https://xpresstools.readthedocs.io/en/latest/content/normalize.html#batch-normalize) function"
   ]
  },
  {
   "cell_type": "code",
   "execution_count": 13,
   "metadata": {},
   "outputs": [],
   "source": [
    "# Choose from rpm(), tpm(), rpkm(), or fpkm(). All require a GTF file aside from rpm()\n",
    "data_tpm = xp.tpm(\n",
    "    data, \n",
    "    gtf_ref)"
   ]
  },
  {
   "cell_type": "code",
   "execution_count": 14,
   "metadata": {},
   "outputs": [
    {
     "data": {
      "text/html": [
       "<div>\n",
       "<style scoped>\n",
       "    .dataframe tbody tr th:only-of-type {\n",
       "        vertical-align: middle;\n",
       "    }\n",
       "\n",
       "    .dataframe tbody tr th {\n",
       "        vertical-align: top;\n",
       "    }\n",
       "\n",
       "    .dataframe thead th {\n",
       "        text-align: right;\n",
       "    }\n",
       "</style>\n",
       "<table border=\"1\" class=\"dataframe\">\n",
       "  <thead>\n",
       "    <tr style=\"text-align: right;\">\n",
       "      <th></th>\n",
       "      <th>SRR1795425</th>\n",
       "      <th>SRR1795426</th>\n",
       "      <th>SRR1795427</th>\n",
       "      <th>SRR1795428</th>\n",
       "      <th>SRR1795433</th>\n",
       "      <th>SRR1795434</th>\n",
       "      <th>SRR1795435</th>\n",
       "      <th>SRR1795436</th>\n",
       "    </tr>\n",
       "  </thead>\n",
       "  <tbody>\n",
       "    <tr>\n",
       "      <th>TSPAN6</th>\n",
       "      <td>57.347788</td>\n",
       "      <td>62.125560</td>\n",
       "      <td>58.259959</td>\n",
       "      <td>69.342238</td>\n",
       "      <td>66.051648</td>\n",
       "      <td>56.556067</td>\n",
       "      <td>60.120759</td>\n",
       "      <td>77.719438</td>\n",
       "    </tr>\n",
       "    <tr>\n",
       "      <th>TNMD</th>\n",
       "      <td>0.000000</td>\n",
       "      <td>0.637487</td>\n",
       "      <td>0.000000</td>\n",
       "      <td>0.000000</td>\n",
       "      <td>0.000000</td>\n",
       "      <td>0.000000</td>\n",
       "      <td>0.000000</td>\n",
       "      <td>0.000000</td>\n",
       "    </tr>\n",
       "    <tr>\n",
       "      <th>DPM1</th>\n",
       "      <td>469.956966</td>\n",
       "      <td>429.408485</td>\n",
       "      <td>428.439463</td>\n",
       "      <td>425.458893</td>\n",
       "      <td>466.810495</td>\n",
       "      <td>470.693861</td>\n",
       "      <td>458.221875</td>\n",
       "      <td>450.469676</td>\n",
       "    </tr>\n",
       "    <tr>\n",
       "      <th>SCYL3</th>\n",
       "      <td>7.195805</td>\n",
       "      <td>6.454199</td>\n",
       "      <td>6.680703</td>\n",
       "      <td>6.306569</td>\n",
       "      <td>7.032385</td>\n",
       "      <td>7.348262</td>\n",
       "      <td>7.578076</td>\n",
       "      <td>9.110972</td>\n",
       "    </tr>\n",
       "    <tr>\n",
       "      <th>C1orf112</th>\n",
       "      <td>63.174717</td>\n",
       "      <td>64.028984</td>\n",
       "      <td>62.608850</td>\n",
       "      <td>64.095493</td>\n",
       "      <td>57.130505</td>\n",
       "      <td>63.861546</td>\n",
       "      <td>69.753661</td>\n",
       "      <td>65.983938</td>\n",
       "    </tr>\n",
       "  </tbody>\n",
       "</table>\n",
       "</div>"
      ],
      "text/plain": [
       "          SRR1795425  SRR1795426  SRR1795427  SRR1795428  SRR1795433  \\\n",
       "TSPAN6     57.347788   62.125560   58.259959   69.342238   66.051648   \n",
       "TNMD        0.000000    0.637487    0.000000    0.000000    0.000000   \n",
       "DPM1      469.956966  429.408485  428.439463  425.458893  466.810495   \n",
       "SCYL3       7.195805    6.454199    6.680703    6.306569    7.032385   \n",
       "C1orf112   63.174717   64.028984   62.608850   64.095493   57.130505   \n",
       "\n",
       "          SRR1795434  SRR1795435  SRR1795436  \n",
       "TSPAN6     56.556067   60.120759   77.719438  \n",
       "TNMD        0.000000    0.000000    0.000000  \n",
       "DPM1      470.693861  458.221875  450.469676  \n",
       "SCYL3       7.348262    7.578076    9.110972  \n",
       "C1orf112   63.861546   69.753661   65.983938  "
      ]
     },
     "execution_count": 14,
     "metadata": {},
     "output_type": "execute_result"
    }
   ],
   "source": [
    "data_tpm.head()"
   ]
  },
  {
   "cell_type": "code",
   "execution_count": 15,
   "metadata": {},
   "outputs": [],
   "source": [
    "data_rpm = xp.rpm(\n",
    "    data)"
   ]
  },
  {
   "cell_type": "markdown",
   "metadata": {},
   "source": [
    "### Check the data distribution \n",
    "- As RNA-Seq data follows a negative binomial distribution, it is often helpful to perform a log<sub>10</sub> transformation of the data\n",
    "- As we can see by running this block, after `rpm` normalization, the data are distributed proportionally and comparable"
   ]
  },
  {
   "cell_type": "code",
   "execution_count": 16,
   "metadata": {},
   "outputs": [
    {
     "name": "stderr",
     "output_type": "stream",
     "text": [
      "findfont: Font family ['arial'] not found. Falling back to DejaVu Sans.\n",
      "findfont: Font family ['arial'] not found. Falling back to DejaVu Sans.\n"
     ]
    },
    {
     "data": {
      "image/png": "[encoded data removed]",
      "text/plain": [
       "<Figure size 576x192 with 1 Axes>"
      ]
     },
     "metadata": {
      "needs_background": "light"
     },
     "output_type": "display_data"
    }
   ],
   "source": [
    "log_data = np.log10(data_rpm + 1)\n",
    "\n",
    "xp.check_samples(log_data)"
   ]
  },
  {
   "cell_type": "markdown",
   "metadata": {},
   "source": [
    "### Gene Scaling\n",
    "- For many analyses, it is important that genes be scaled similarly in order to make their comparison compatible\n",
    "- XPRESStools will perform standard scaling on gene data. This will result in each gene having a mean=0 and a standard deviation=1"
   ]
  },
  {
   "cell_type": "code",
   "execution_count": 17,
   "metadata": {},
   "outputs": [],
   "source": [
    "data_scaled, data_labeled = xp.prep_data(data_rpm, metadata) "
   ]
  },
  {
   "cell_type": "markdown",
   "metadata": {},
   "source": [
    "### Prepare plotting features\n",
    "- XPRESStools often gives one the option to color by sample type. Doing so requires a color palette dictionary, like the one below\n",
    "- Colors can be specified using common names or using another Matplotlib-compatible format"
   ]
  },
  {
   "cell_type": "code",
   "execution_count": 18,
   "metadata": {},
   "outputs": [],
   "source": [
    "colors = {'ribo_tm': (0.8705882352941177, 0.5607843137254902, 0.0196078431372549),\n",
    "        'ribo_untr': (0.00784313725490196, 0.6196078431372549, 0.45098039215686275)}"
   ]
  },
  {
   "cell_type": "markdown",
   "metadata": {},
   "source": [
    "# Analyzing Data"
   ]
  },
  {
   "cell_type": "markdown",
   "metadata": {},
   "source": [
    "### Single-gene analysis\n",
    "- Use: Explore how expression of a particular gene varies across sample types"
   ]
  },
  {
   "cell_type": "markdown",
   "metadata": {},
   "source": [
    "<u><b>Plot data</b></u>\n",
    "- In the example below, we use the previous data and metadata, along with the corresponding color palette\n",
    "- In this example we will look at how expression of <b>ATF4</b>, a stress-responsive transcription factor\n",
    "- In this example, we have also added the ```order``` argument to ensure samples are ordered as we wish"
   ]
  },
  {
   "cell_type": "code",
   "execution_count": 19,
   "metadata": {},
   "outputs": [
    {
     "data": {
      "text/plain": [
       "<Figure size 432x288 with 0 Axes>"
      ]
     },
     "metadata": {},
     "output_type": "display_data"
    },
    {
     "data": {
      "image/png": "[encoded data removed]",
      "text/plain": [
       "<Figure size 360x360 with 1 Axes>"
      ]
     },
     "metadata": {},
     "output_type": "display_data"
    }
   ],
   "source": [
    "xp.gene_overview(data_rpm, metadata, 'ATF4', colors, order=['ribo_untr','ribo_tm'])"
   ]
  },
  {
   "cell_type": "markdown",
   "metadata": {},
   "source": [
    "### Multi-gene analysis\n",
    "- Use: Explore expression of a sub-set of genes of interest"
   ]
  },
  {
   "cell_type": "markdown",
   "metadata": {},
   "source": [
    "<u><b>Generate gene lists</b></u>\n",
    "- Gene lists can be imported or specified as a variable for later use\n",
    "- This list can be modified to fit the user's specific needs"
   ]
  },
  {
   "cell_type": "code",
   "execution_count": 20,
   "metadata": {},
   "outputs": [],
   "source": [
    "genes = ['ATF4',\"ATF5\",'DDIT3','PPP1R15A']"
   ]
  },
  {
   "cell_type": "markdown",
   "metadata": {},
   "source": [
    "<u><b>Plot data</b></u>\n",
    "- Next, we'll perform multi-gene analysis on a subset of genes we think might be interesting in the context of colon cancer\n",
    "- In this example we will explore the expression of the genes required to form the HoxD\n",
    "- It is recommended that <b>genes are uniformly scaled</b> in order to make their expression levels cross-compatible\n",
    "- Lactate dehydrogenase gene products convert pyruvate to lactate and appear to show sligh up-regulation. As the mitochondrial pyruvate carrier appears to be downregulated, this makes sense, as the complex will decrease import of pyruvate into the mitochondria and lead to accumulations in the cytosol"
   ]
  },
  {
   "cell_type": "code",
   "execution_count": 21,
   "metadata": {},
   "outputs": [
    {
     "data": {
      "image/png": "[encoded data removed]",
      "text/plain": [
       "<Figure size 432x288 with 1 Axes>"
      ]
     },
     "metadata": {},
     "output_type": "display_data"
    }
   ],
   "source": [
    "xp.multigene_overview(data_scaled, metadata, \n",
    "                      palette=colors,\n",
    "                      gene_list=genes)"
   ]
  },
  {
   "cell_type": "markdown",
   "metadata": {},
   "source": [
    "### Heatmaps\n",
    "- Use: Compare a gene cohort or all genes across samples to identify expression patterns"
   ]
  },
  {
   "cell_type": "markdown",
   "metadata": {},
   "source": [
    "<u><b>Prepare gene labels metadata</b></u>\n",
    "- In this example, we will supply the sample metadata, as well as gene metadata to label the gene axis"
   ]
  },
  {
   "cell_type": "code",
   "execution_count": 22,
   "metadata": {},
   "outputs": [],
   "source": [
    "#Set gene group color palette\n",
    "gene_colors = {'ATF4': (0.5725490196078431, 0.5843137254901961, 0.5686274509803921),\n",
    "                'ATF5': (0.8705882352941177, 0.5607843137254902, 0.0196078431372549)}\n",
    "\n",
    "#Create gene group metadata\n",
    "gene_groups = np.array([['ATF4','ISR'],\n",
    "                  ['ATF5','ISR'],\n",
    "                  ['DDIT3','ISR'],\n",
    "                  ['SLC1A1','Other']])\n",
    "gene_groups = pd.DataFrame({0:gene_groups[:,0],1:gene_groups[:,1]})"
   ]
  },
  {
   "cell_type": "markdown",
   "metadata": {},
   "source": [
    "<u><b>Plot data</b></u>\n",
    "- From this analysis, it appears that the LDH genes and the MPC genes cluster together and that these two sets of genes alone are able to cluster normal versus adenomous tissue fairly well"
   ]
  },
  {
   "cell_type": "code",
   "execution_count": 23,
   "metadata": {},
   "outputs": [
    {
     "data": {
      "text/plain": [
       "<Figure size 432x288 with 0 Axes>"
      ]
     },
     "metadata": {},
     "output_type": "display_data"
    },
    {
     "data": {
      "image/png": "[encoded data removed]",
      "text/plain": [
       "<Figure size 720x216 with 6 Axes>"
      ]
     },
     "metadata": {},
     "output_type": "display_data"
    }
   ],
   "source": [
    "xp.heatmap(data_scaled, metadata, \n",
    "           sample_palette=colors, \n",
    "           gene_palette=gene_colors, gene_info=gene_groups, \n",
    "           gene_list=['ATF4','ATF5','DDIT3','SLC1A1'], \n",
    "           row_cluster=True, col_cluster=True,\n",
    "           figsize=(10,3))"
   ]
  },
  {
   "cell_type": "markdown",
   "metadata": {},
   "source": [
    "# Scatter Plots and Linear Regression\n",
    "- Use: Plot two arrays data, such as the expression of two genes from the dataset and determine if there is a linear relationship between the two arrays "
   ]
  },
  {
   "cell_type": "markdown",
   "metadata": {},
   "source": [
    "<u><b>Plot data</b></u>\n",
    "- From the previous example, it appears there is a fairly anti-correlary relationship between MPC and LDH. We would now like to quantify this relationship between two of the genes\n",
    "- The linear regression states that the relationship has an r-value=```-0.48```, confirming our hypothesis of a anti-correlary relationship. The value of ```0.48``` indicates a moderate level of correlation"
   ]
  },
  {
   "cell_type": "code",
   "execution_count": null,
   "metadata": {},
   "outputs": [],
   "source": [
    "xp.scatter(data, metadata, 'SLC1A1', 'ATF4', \n",
    "           palette=colors, \n",
    "           add_linreg=True,\n",
    "           alpha=0.9,\n",
    "           figsize=(4,4))"
   ]
  },
  {
   "cell_type": "markdown",
   "metadata": {},
   "source": [
    "### Volcano Plots\n",
    "- As RNA-Seq data is not normally distributed, we need to input properly processed data \n",
    "- We will use DESeq2 prepared data, which is accessible through `XPRESSpipe diffex`"
   ]
  },
  {
   "cell_type": "markdown",
   "metadata": {},
   "source": [
    "<u><b>Plot data</b></u>\n",
    "- From this analysis, while the changes in these genes are significant, they are perhaps not very large changes in expression\n",
    "- Labeling the highlighted points is a two step process, as outlined in the code blocks below"
   ]
  },
  {
   "cell_type": "code",
   "execution_count": null,
   "metadata": {},
   "outputs": [],
   "source": [
    "#We'll use this step to get the gene coordinates\n",
    "xp.rna_volcano(\n",
    "    './tests/test_deseq2_output.txt',\n",
    "    highlight_points=[['ATF4','ATF5','DDIT3'],['SLC1A1','POMGNT1']],\n",
    "    highlight_color=['green','purple'],\n",
    "    y_threshold=1,\n",
    "    x_threshold=[-1,1])                                      \n",
    "           "
   ]
  },
  {
   "cell_type": "markdown",
   "metadata": {},
   "source": [
    "# Principle Component Analysis\n",
    "- Use: Deconvolute high-dimensional data"
   ]
  },
  {
   "cell_type": "markdown",
   "metadata": {},
   "source": [
    "<u><b>Prepare gene set</b></u>\n",
    "- Let's see how sufficient solute transporter expression levels are to delineate different sample types"
   ]
  },
  {
   "cell_type": "code",
   "execution_count": null,
   "metadata": {},
   "outputs": [],
   "source": [
    "slc = []\n",
    "slc = [x for x in data_scaled.index.tolist() if 'SLC' in x]"
   ]
  },
  {
   "cell_type": "markdown",
   "metadata": {},
   "source": [
    "<u><b>Plot data</b></u>\n",
    "- Let's plot the gene subset"
   ]
  },
  {
   "cell_type": "code",
   "execution_count": null,
   "metadata": {},
   "outputs": [],
   "source": [
    "xp.pca(data_scaled, metadata, colors, \n",
    "       gene_list=slc,\n",
    "       grouping='samples', #this indicates we want to compare samples\n",
    "       n_components=2, # Since we have a small number of samples, we need to modify this to n_samples > n_components\n",
    "       figsize=(4,4))"
   ]
  },
  {
   "cell_type": "markdown",
   "metadata": {},
   "source": [
    "- We can also consider all gene expression to see how it delineates sample type\n",
    "- In this case, it looks like gene expression alone is enough to cluster these samples (good thing, since they one type is cancer and the other is normal!)"
   ]
  },
  {
   "cell_type": "code",
   "execution_count": null,
   "metadata": {},
   "outputs": [],
   "source": [
    "xp.pca(data_scaled, metadata, colors, \n",
    "       figsize=(4,4),\n",
    "      n_components=2)"
   ]
  },
  {
   "cell_type": "code",
   "execution_count": null,
   "metadata": {},
   "outputs": [],
   "source": []
  }
 ],
 "metadata": {
  "kernelspec": {
   "display_name": "Python 3",
   "language": "python",
   "name": "python3"
  },
  "language_info": {
   "codemirror_mode": {
    "name": "ipython",
    "version": 3
   },
   "file_extension": ".py",
   "mimetype": "text/x-python",
   "name": "python",
   "nbconvert_exporter": "python",
   "pygments_lexer": "ipython3",
   "version": "3.8.6"
  }
 },
 "nbformat": 4,
 "nbformat_minor": 2
}
